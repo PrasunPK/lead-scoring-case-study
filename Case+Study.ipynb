{
 "cells": [
  {
   "cell_type": "code",
   "execution_count": null,
   "id": "34e71c0f",
   "metadata": {},
   "outputs": [],
   "source": [
    "import pandas as pd\n",
    "import numpy as np\n",
    "import matplotlib.pyplot as plt\n",
    "import seaborn as sns"
   ]
  },
  {
   "cell_type": "code",
   "execution_count": null,
   "id": "8efc1438",
   "metadata": {},
   "outputs": [],
   "source": [
    "leads = pd.read_csv('Leads.csv')"
   ]
  },
  {
   "cell_type": "code",
   "execution_count": null,
   "id": "9cddc783",
   "metadata": {},
   "outputs": [],
   "source": [
    "leads.head()"
   ]
  },
  {
   "cell_type": "markdown",
   "id": "b1d127d3",
   "metadata": {},
   "source": [
    "## Basic Analysis"
   ]
  },
  {
   "cell_type": "code",
   "execution_count": null,
   "id": "799ad6e3",
   "metadata": {},
   "outputs": [],
   "source": [
    "leads.shape"
   ]
  },
  {
   "cell_type": "markdown",
   "id": "7fd7985f",
   "metadata": {},
   "source": [
    "#### There are total of 9240 rows of data with 37 columns"
   ]
  },
  {
   "cell_type": "code",
   "execution_count": null,
   "id": "58f903a7",
   "metadata": {},
   "outputs": [],
   "source": [
    "leads.info()"
   ]
  },
  {
   "cell_type": "code",
   "execution_count": null,
   "id": "26479d5d",
   "metadata": {},
   "outputs": [],
   "source": [
    "leads.describe()"
   ]
  },
  {
   "cell_type": "markdown",
   "id": "b9f829d6",
   "metadata": {},
   "source": [
    "#### With all the statistics from the numeric columns we see quite a lot variance as well as null values"
   ]
  },
  {
   "cell_type": "markdown",
   "id": "3c1ee5f9",
   "metadata": {},
   "source": [
    "## Data Cleaning"
   ]
  },
  {
   "cell_type": "markdown",
   "id": "3c2e9166",
   "metadata": {},
   "source": [
    "#### There are various types of data types and all seems to be in correct format. But looks like there are some null values as well based on the total data count as 9240"
   ]
  },
  {
   "cell_type": "markdown",
   "id": "f7f3be5a",
   "metadata": {},
   "source": [
    "Let's calculate the percentage of null values in the dataset"
   ]
  },
  {
   "cell_type": "code",
   "execution_count": null,
   "id": "23c36f67",
   "metadata": {},
   "outputs": [],
   "source": [
    "def calculate_null_percentage(dataset):\n",
    "    return round(dataset.isnull().sum() / len(dataset) * 100, 2)"
   ]
  },
  {
   "cell_type": "code",
   "execution_count": null,
   "id": "a1021b40",
   "metadata": {
    "scrolled": false
   },
   "outputs": [],
   "source": [
    "calculate_null_percentage(leads)"
   ]
  },
  {
   "cell_type": "markdown",
   "id": "81aa5513",
   "metadata": {},
   "source": [
    "#### Also as mentioned in the problem statement, \"Select\" is considered to be as `null`. This is because if the data was collected from an user interface, there could have been several options as A, B, C and 'Select'. If the data entry operator or user did not choose any of the valid options it would remain as 'Select'. This implies that \"Select\" is same as `null` in the dataset.\n",
    "\n",
    "Let's replace `Select` with null and re-calculate the `null` values percentage."
   ]
  },
  {
   "cell_type": "code",
   "execution_count": null,
   "id": "a0f4ba8d",
   "metadata": {},
   "outputs": [],
   "source": [
    "leads = leads.replace('Select', np.nan)"
   ]
  },
  {
   "cell_type": "code",
   "execution_count": null,
   "id": "40ba31f1",
   "metadata": {},
   "outputs": [],
   "source": [
    "calculate_null_percentage(leads)"
   ]
  },
  {
   "cell_type": "markdown",
   "id": "0feb35ca",
   "metadata": {},
   "source": [
    "#### There is a significant increse from `29.32%` to `74.19%` in the `Lead Profile` column after replacing all the `Select` values."
   ]
  },
  {
   "cell_type": "markdown",
   "id": "efb07580",
   "metadata": {},
   "source": [
    "According to general guideline all columns which has more than **`40%`** of missing values should be dropped as they won't impact on the analysis any significantly.\n",
    "Let's see what does these columns contain in actual."
   ]
  },
  {
   "cell_type": "code",
   "execution_count": null,
   "id": "aedc0903",
   "metadata": {},
   "outputs": [],
   "source": [
    "columns_with_high_missing_values = [\"How did you hear about X Education\", \n",
    "                                    \"Lead Quality\", \n",
    "                                    \"Lead Profile\", \n",
    "                                    \"Asymmetrique Activity Index\", \n",
    "                                    \"Asymmetrique Profile Index\", \n",
    "                                    \"Asymmetrique Activity Score\", \n",
    "                                    \"Asymmetrique Profile Score\"]"
   ]
  },
  {
   "cell_type": "code",
   "execution_count": null,
   "id": "85193bcd",
   "metadata": {},
   "outputs": [],
   "source": [
    "leads[columns_with_high_missing_values]"
   ]
  },
  {
   "cell_type": "markdown",
   "id": "9e45330a",
   "metadata": {},
   "source": [
    "#### Although these columns seems to have an impact on the case study as they have some kind of score, but due to high percentage of missing values, these columns need to be dropped from the dataset"
   ]
  },
  {
   "cell_type": "code",
   "execution_count": null,
   "id": "0c11c157",
   "metadata": {},
   "outputs": [],
   "source": [
    "leads = leads.drop(columns = columns_with_high_missing_values)"
   ]
  },
  {
   "cell_type": "code",
   "execution_count": null,
   "id": "fb7e7fb2",
   "metadata": {},
   "outputs": [],
   "source": [
    "leads.shape"
   ]
  },
  {
   "cell_type": "code",
   "execution_count": null,
   "id": "9081ee71",
   "metadata": {},
   "outputs": [],
   "source": [
    "calculate_null_percentage(leads)"
   ]
  },
  {
   "cell_type": "markdown",
   "id": "a2905c55",
   "metadata": {},
   "source": [
    "#### Specialization, Tags and City has close to `40%` missing values but we should not drop them as they might have impact on the overall analysis"
   ]
  },
  {
   "cell_type": "code",
   "execution_count": null,
   "id": "13ff6507",
   "metadata": {},
   "outputs": [],
   "source": [
    "leads.Specialization.value_counts() / len(leads) * 100"
   ]
  },
  {
   "cell_type": "markdown",
   "id": "b5b62559",
   "metadata": {},
   "source": [
    "#### Let's fill the null values with a columns called `Other`"
   ]
  },
  {
   "cell_type": "code",
   "execution_count": null,
   "id": "14bf7dbe",
   "metadata": {},
   "outputs": [],
   "source": [
    "leads.Specialization = leads.Specialization.fillna('Other')"
   ]
  },
  {
   "cell_type": "markdown",
   "id": "dd810ee5",
   "metadata": {},
   "source": [
    "#### Recalculating the Specialization values"
   ]
  },
  {
   "cell_type": "code",
   "execution_count": null,
   "id": "6d021459",
   "metadata": {},
   "outputs": [],
   "source": [
    "leads.Specialization.value_counts() / len(leads) * 100"
   ]
  },
  {
   "cell_type": "markdown",
   "id": "b57a51df",
   "metadata": {},
   "source": [
    "#### Let's apply the same for Tags columns"
   ]
  },
  {
   "cell_type": "code",
   "execution_count": null,
   "id": "f74377d8",
   "metadata": {},
   "outputs": [],
   "source": [
    "leads.Tags.value_counts() / len(leads) * 100"
   ]
  },
  {
   "cell_type": "markdown",
   "id": "bc0d2198",
   "metadata": {},
   "source": [
    "Tags column has most values as \"Will revert after reading the email\" i.e. **58.7%**. So, all the missing columns can be filled with the same value."
   ]
  },
  {
   "cell_type": "code",
   "execution_count": null,
   "id": "f69a4f00",
   "metadata": {},
   "outputs": [],
   "source": [
    "leads.Tags = leads.Tags.fillna('Will revert after reading the email')"
   ]
  },
  {
   "cell_type": "code",
   "execution_count": null,
   "id": "646beb3b",
   "metadata": {},
   "outputs": [],
   "source": [
    "leads.Tags.value_counts() / len(leads) * 100"
   ]
  },
  {
   "cell_type": "markdown",
   "id": "10088b74",
   "metadata": {},
   "source": [
    "#### Let's look into the City columns"
   ]
  },
  {
   "cell_type": "code",
   "execution_count": null,
   "id": "1a5ebb5c",
   "metadata": {},
   "outputs": [],
   "source": [
    "leads.City.value_counts() / len(leads) * 100"
   ]
  },
  {
   "cell_type": "markdown",
   "id": "f2aeab26",
   "metadata": {},
   "source": [
    "#### As we do not have enough information on the City we can fill the missing City information as **Mumbai** (Which is already present in the dataset) and has the majority in count. We could have filled with \"Other Cities\" as well here."
   ]
  },
  {
   "cell_type": "code",
   "execution_count": null,
   "id": "4f28f9f1",
   "metadata": {},
   "outputs": [],
   "source": [
    "leads.City = leads.City.fillna('Mumbai')"
   ]
  },
  {
   "cell_type": "code",
   "execution_count": null,
   "id": "6a77169f",
   "metadata": {},
   "outputs": [],
   "source": [
    "calculate_null_percentage(leads)"
   ]
  },
  {
   "cell_type": "markdown",
   "id": "9b57d5a1",
   "metadata": {},
   "source": [
    "#### Country column has **`26.63%`** missing values."
   ]
  },
  {
   "cell_type": "code",
   "execution_count": null,
   "id": "09713cf9",
   "metadata": {},
   "outputs": [],
   "source": [
    "leads.Country.value_counts() / len(leads) * 100"
   ]
  },
  {
   "cell_type": "markdown",
   "id": "a2b1c64d",
   "metadata": {},
   "source": [
    "Most mentioned country is India. Missing values could be filled with India. "
   ]
  },
  {
   "cell_type": "code",
   "execution_count": null,
   "id": "3440c1a2",
   "metadata": {},
   "outputs": [],
   "source": [
    "leads.Country = leads.Country.fillna('India')"
   ]
  },
  {
   "cell_type": "code",
   "execution_count": null,
   "id": "47498c53",
   "metadata": {},
   "outputs": [],
   "source": [
    "leads.Country.value_counts() / len(leads) * 100"
   ]
  },
  {
   "cell_type": "markdown",
   "id": "36eab520",
   "metadata": {},
   "source": [
    "#### \"What is your current occupation\" column has some missing values. Let's impute this."
   ]
  },
  {
   "cell_type": "code",
   "execution_count": null,
   "id": "247a0501",
   "metadata": {},
   "outputs": [],
   "source": [
    "leads['What is your current occupation'].value_counts() / len(leads) * 100"
   ]
  },
  {
   "cell_type": "markdown",
   "id": "a75e3acc",
   "metadata": {},
   "source": [
    "Majority of the leads are unemployed here. It might be not appropriate to fill the missing data with `Unemployed`. It could be filled with `Other` as well. Business domain-wise and Unemployed person would(propably) tend to choose a course for employment. So all the missing values could be better filled with `Unemployed` column."
   ]
  },
  {
   "cell_type": "code",
   "execution_count": null,
   "id": "489f9141",
   "metadata": {},
   "outputs": [],
   "source": [
    "leads['What is your current occupation'] = leads['What is your current occupation'].fillna('Unemployed')"
   ]
  },
  {
   "cell_type": "code",
   "execution_count": null,
   "id": "e596e9af",
   "metadata": {},
   "outputs": [],
   "source": [
    "leads['What is your current occupation'].value_counts() / len(leads) * 100"
   ]
  },
  {
   "cell_type": "markdown",
   "id": "bd766223",
   "metadata": {},
   "source": [
    "#### \"What matters most to you in choosing a course\" column has good number of missing values. Let's impute that too"
   ]
  },
  {
   "cell_type": "code",
   "execution_count": null,
   "id": "213856ee",
   "metadata": {},
   "outputs": [],
   "source": [
    "leads['What matters most to you in choosing a course'].value_counts() / len(leads) * 100"
   ]
  },
  {
   "cell_type": "markdown",
   "id": "21715415",
   "metadata": {},
   "source": [
    "Very simple choice here to fill the missing values with \"Better Career Prospects\"."
   ]
  },
  {
   "cell_type": "code",
   "execution_count": null,
   "id": "8ffeed4e",
   "metadata": {},
   "outputs": [],
   "source": [
    "leads['What matters most to you in choosing a course'] = leads['What matters most to you in choosing a course'].fillna('Better Career Prospects')"
   ]
  },
  {
   "cell_type": "code",
   "execution_count": null,
   "id": "0d1d982b",
   "metadata": {},
   "outputs": [],
   "source": [
    "leads['What matters most to you in choosing a course'].value_counts() / len(leads) * 100"
   ]
  },
  {
   "cell_type": "code",
   "execution_count": null,
   "id": "cb379986",
   "metadata": {},
   "outputs": [],
   "source": [
    "calculate_null_percentage(leads)"
   ]
  },
  {
   "cell_type": "markdown",
   "id": "bae9bb15",
   "metadata": {},
   "source": [
    "#### Rest of the missing values columns are less then `1.5%`. These rows will be dropped."
   ]
  },
  {
   "cell_type": "code",
   "execution_count": null,
   "id": "36ff79e0",
   "metadata": {},
   "outputs": [],
   "source": [
    "leads.dropna(inplace=True)"
   ]
  },
  {
   "cell_type": "code",
   "execution_count": null,
   "id": "5a6a9153",
   "metadata": {},
   "outputs": [],
   "source": [
    "calculate_null_percentage(leads)"
   ]
  },
  {
   "cell_type": "markdown",
   "id": "edd05738",
   "metadata": {},
   "source": [
    "#### As we see there are no more null values in the dataset. We can proceed for data analysis for better understanding of the dataset and features."
   ]
  },
  {
   "cell_type": "markdown",
   "id": "cdb84d84",
   "metadata": {},
   "source": [
    "## Exploratory Data Analysis"
   ]
  },
  {
   "cell_type": "markdown",
   "id": "628a502d",
   "metadata": {},
   "source": [
    "#### Let's find out the conversion rate as convert is the target variable."
   ]
  },
  {
   "cell_type": "code",
   "execution_count": null,
   "id": "fc494828",
   "metadata": {},
   "outputs": [],
   "source": [
    "sum(leads.Converted) / len(leads) * 100"
   ]
  },
  {
   "cell_type": "markdown",
   "id": "12e0b6ab",
   "metadata": {},
   "source": [
    "#### So, the conversion rate is very close to `38%`"
   ]
  },
  {
   "cell_type": "markdown",
   "id": "dc90e39d",
   "metadata": {},
   "source": [
    "Let's find out relation among leads origin and lead source with the conversions."
   ]
  },
  {
   "cell_type": "code",
   "execution_count": null,
   "id": "a01e4ea2",
   "metadata": {},
   "outputs": [],
   "source": [
    "plt.figure(figsize=(20, 10))\n",
    "sns.countplot(data = leads, x = 'Lead Origin', hue = 'Converted')\n",
    "plt.xticks(rotation = 45)\n",
    "plt.show()"
   ]
  },
  {
   "cell_type": "markdown",
   "id": "aace8615",
   "metadata": {},
   "source": [
    "#### Observations\n",
    "1. API and Landing Page Submission have more conversion rate\n",
    "2. Lead Add Form has the highest coversion rate compared to the other two\n",
    "3. Lead Import has a very minimal conversion rate"
   ]
  },
  {
   "cell_type": "code",
   "execution_count": null,
   "id": "f05e802f",
   "metadata": {
    "scrolled": false
   },
   "outputs": [],
   "source": [
    "plt.figure(figsize=(20, 10))\n",
    "sns.countplot(data = leads, x = 'Lead Source', hue = 'Converted')\n",
    "plt.xticks(rotation = 45)\n",
    "plt.show()"
   ]
  },
  {
   "cell_type": "markdown",
   "id": "588b6d14",
   "metadata": {},
   "source": [
    "#### Observations\n",
    "1. Olark Chat, Organic Search Direct Traffic, Google and Reference have more conversion rate\n",
    "2. There are Google and google both - we need to convert them to single category\n",
    "3. Also there are many **other** categories with minimal reach and conversions - we can convert them to a other category here"
   ]
  },
  {
   "cell_type": "code",
   "execution_count": null,
   "id": "befbeca6",
   "metadata": {},
   "outputs": [],
   "source": [
    "leads['Lead Source'].value_counts()"
   ]
  },
  {
   "cell_type": "code",
   "execution_count": null,
   "id": "f65c933e",
   "metadata": {},
   "outputs": [],
   "source": [
    "# Replacing google with Google\n",
    "leads['Lead Source'].replace(\"google\", \"Google\", inplace = True)"
   ]
  },
  {
   "cell_type": "code",
   "execution_count": null,
   "id": "7b8f18c9",
   "metadata": {},
   "outputs": [],
   "source": [
    "# Replacing Click2call, Press_Release, Social Media, \n",
    "# Live Chat, youtubechannel, testone, Pay per Click Ads, \n",
    "# welearnblog_Home, WeLearn, blog, NC_EDM\n",
    "# to 'Others'\n",
    "\n",
    "leads['Lead Source'].replace(['Click2call', 'Press_Release', 'Social Media', 'Live Chat', \n",
    "              'youtubechannel', 'testone', 'Pay per Click Ads', 'welearnblog_Home', \n",
    "              'WeLearn', 'blog', 'NC_EDM'], \"Others\", inplace = True)"
   ]
  },
  {
   "cell_type": "code",
   "execution_count": null,
   "id": "75378909",
   "metadata": {},
   "outputs": [],
   "source": [
    "leads['Lead Source'].value_counts()"
   ]
  },
  {
   "cell_type": "code",
   "execution_count": null,
   "id": "61cc2836",
   "metadata": {
    "scrolled": false
   },
   "outputs": [],
   "source": [
    "plt.figure(figsize=(20, 10))\n",
    "sns.countplot(data = leads, x = 'Lead Source', hue = 'Converted')\n",
    "plt.xticks(rotation = 45)\n",
    "plt.show()"
   ]
  },
  {
   "cell_type": "markdown",
   "id": "e59dc9bc",
   "metadata": {},
   "source": [
    "#### Observations -\n",
    "1. Google and Direct Traffic conversion rates are high in numbers\n",
    "2. Reference and Welingak website has the highest conversion rate in terms of percentage\n",
    "\n",
    "More focus should be on Google traffic, reference and Welingak website, nurturing these sources might increase conversion rate by a good margin"
   ]
  },
  {
   "cell_type": "markdown",
   "id": "8173528e",
   "metadata": {},
   "source": [
    "Let's see 'Do Not Email' and 'Do Not Call' columns based on the conversion rate"
   ]
  },
  {
   "cell_type": "code",
   "execution_count": null,
   "id": "4ae4a98f",
   "metadata": {},
   "outputs": [],
   "source": [
    "fig, axs = plt.subplots(1, 2, figsize=(12, 4))\n",
    "sns.countplot(data = leads, x = 'Do Not Email', hue = 'Converted', ax=axs[0])\n",
    "sns.countplot(data = leads, x = 'Do Not Call', hue = 'Converted', ax=axs[1])\n",
    "plt.show()"
   ]
  },
  {
   "cell_type": "markdown",
   "id": "c9b189aa",
   "metadata": {},
   "source": [
    "#### Observations -\n",
    "1. Condidates who allowed emails and calls communication has more convertion rate.\n",
    "2. In case of 'Do Not Email' and 'Do Not Call' - 'NO' - conversion rates are similar\n",
    "3. It can be inferred that interested candidates allowed calls and emails"
   ]
  }
 ],
 "metadata": {
  "kernelspec": {
   "display_name": "Python 3 (ipykernel)",
   "language": "python",
   "name": "python3"
  },
  "language_info": {
   "codemirror_mode": {
    "name": "ipython",
    "version": 3
   },
   "file_extension": ".py",
   "mimetype": "text/x-python",
   "name": "python",
   "nbconvert_exporter": "python",
   "pygments_lexer": "ipython3",
   "version": "3.9.13"
  }
 },
 "nbformat": 4,
 "nbformat_minor": 5
}
