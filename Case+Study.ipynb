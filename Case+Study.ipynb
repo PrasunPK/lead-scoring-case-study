{
 "cells": [
  {
   "cell_type": "code",
   "execution_count": null,
   "id": "34e71c0f",
   "metadata": {},
   "outputs": [],
   "source": [
    "import pandas as pd\n",
    "import numpy as np\n",
    "import matplotlib.pyplot as plt\n",
    "import seaborn as sns\n",
    "\n",
    "from sklearn.model_selection import train_test_split\n",
    "from sklearn.preprocessing import StandardScaler\n",
    "from sklearn.linear_model import LogisticRegression\n",
    "from sklearn.feature_selection import RFE\n",
    "\n",
    "import statsmodels.api as sm\n",
    "\n",
    "import warnings\n",
    "warnings.filterwarnings('ignore')"
   ]
  },
  {
   "cell_type": "code",
   "execution_count": null,
   "id": "8efc1438",
   "metadata": {},
   "outputs": [],
   "source": [
    "leads = pd.read_csv('Leads.csv')"
   ]
  },
  {
   "cell_type": "code",
   "execution_count": null,
   "id": "9cddc783",
   "metadata": {},
   "outputs": [],
   "source": [
    "leads.head()"
   ]
  },
  {
   "cell_type": "markdown",
   "id": "b1d127d3",
   "metadata": {},
   "source": [
    "## Basic Analysis"
   ]
  },
  {
   "cell_type": "code",
   "execution_count": null,
   "id": "799ad6e3",
   "metadata": {},
   "outputs": [],
   "source": [
    "leads.shape"
   ]
  },
  {
   "cell_type": "markdown",
   "id": "7fd7985f",
   "metadata": {},
   "source": [
    "#### There are total of 9240 rows of data with 37 columns"
   ]
  },
  {
   "cell_type": "code",
   "execution_count": null,
   "id": "58f903a7",
   "metadata": {},
   "outputs": [],
   "source": [
    "leads.info()"
   ]
  },
  {
   "cell_type": "code",
   "execution_count": null,
   "id": "26479d5d",
   "metadata": {},
   "outputs": [],
   "source": [
    "leads.describe()"
   ]
  },
  {
   "cell_type": "markdown",
   "id": "b9f829d6",
   "metadata": {},
   "source": [
    "#### With all the statistics from the numeric columns we see quite a lot variance as well as null values"
   ]
  },
  {
   "cell_type": "markdown",
   "id": "3c1ee5f9",
   "metadata": {},
   "source": [
    "## Data Cleaning"
   ]
  },
  {
   "cell_type": "markdown",
   "id": "3c2e9166",
   "metadata": {},
   "source": [
    "#### There are various types of data types and all seems to be in correct format. But looks like there are some null values as well based on the total data count as 9240"
   ]
  },
  {
   "cell_type": "markdown",
   "id": "f7f3be5a",
   "metadata": {},
   "source": [
    "Let's calculate the percentage of null values in the dataset"
   ]
  },
  {
   "cell_type": "code",
   "execution_count": null,
   "id": "23c36f67",
   "metadata": {},
   "outputs": [],
   "source": [
    "def calculate_null_percentage(dataset):\n",
    "    return round(dataset.isnull().sum() / len(dataset) * 100, 2)"
   ]
  },
  {
   "cell_type": "code",
   "execution_count": null,
   "id": "a1021b40",
   "metadata": {
    "scrolled": false
   },
   "outputs": [],
   "source": [
    "calculate_null_percentage(leads)"
   ]
  },
  {
   "cell_type": "markdown",
   "id": "81aa5513",
   "metadata": {},
   "source": [
    "#### Also as mentioned in the problem statement, \"Select\" is considered to be as `null`. This is because if the data was collected from an user interface, there could have been several options as A, B, C and 'Select'. If the data entry operator or user did not choose any of the valid options it would remain as 'Select'. This implies that \"Select\" is same as `null` in the dataset.\n",
    "\n",
    "Let's replace `Select` with null and re-calculate the `null` values percentage."
   ]
  },
  {
   "cell_type": "code",
   "execution_count": null,
   "id": "a0f4ba8d",
   "metadata": {},
   "outputs": [],
   "source": [
    "leads = leads.replace('Select', np.nan)"
   ]
  },
  {
   "cell_type": "code",
   "execution_count": null,
   "id": "40ba31f1",
   "metadata": {},
   "outputs": [],
   "source": [
    "calculate_null_percentage(leads)"
   ]
  },
  {
   "cell_type": "markdown",
   "id": "0feb35ca",
   "metadata": {},
   "source": [
    "#### There is a significant increse from `29.32%` to `74.19%` in the `Lead Profile` column after replacing all the `Select` values."
   ]
  },
  {
   "cell_type": "markdown",
   "id": "efb07580",
   "metadata": {},
   "source": [
    "According to general guideline all columns which has more than **`40%`** of missing values should be dropped as they won't impact on the analysis any significantly.\n",
    "Let's see what does these columns contain in actual."
   ]
  },
  {
   "cell_type": "code",
   "execution_count": null,
   "id": "aedc0903",
   "metadata": {},
   "outputs": [],
   "source": [
    "columns_with_high_missing_values = [\"How did you hear about X Education\", \n",
    "                                    \"Lead Quality\", \n",
    "                                    \"Lead Profile\", \n",
    "                                    \"Asymmetrique Activity Index\", \n",
    "                                    \"Asymmetrique Profile Index\", \n",
    "                                    \"Asymmetrique Activity Score\", \n",
    "                                    \"Asymmetrique Profile Score\"]"
   ]
  },
  {
   "cell_type": "code",
   "execution_count": null,
   "id": "85193bcd",
   "metadata": {},
   "outputs": [],
   "source": [
    "leads[columns_with_high_missing_values]"
   ]
  },
  {
   "cell_type": "markdown",
   "id": "9e45330a",
   "metadata": {},
   "source": [
    "#### Although these columns seems to have an impact on the case study as they have some kind of score, but due to high percentage of missing values, these columns need to be dropped from the dataset"
   ]
  },
  {
   "cell_type": "code",
   "execution_count": null,
   "id": "0c11c157",
   "metadata": {},
   "outputs": [],
   "source": [
    "leads = leads.drop(columns = columns_with_high_missing_values)"
   ]
  },
  {
   "cell_type": "code",
   "execution_count": null,
   "id": "fb7e7fb2",
   "metadata": {},
   "outputs": [],
   "source": [
    "leads.shape"
   ]
  },
  {
   "cell_type": "code",
   "execution_count": null,
   "id": "9081ee71",
   "metadata": {},
   "outputs": [],
   "source": [
    "calculate_null_percentage(leads)"
   ]
  },
  {
   "cell_type": "markdown",
   "id": "a2905c55",
   "metadata": {},
   "source": [
    "#### Specialization, Tags and City has close to `40%` missing values but we should not drop them as they might have impact on the overall analysis"
   ]
  },
  {
   "cell_type": "code",
   "execution_count": null,
   "id": "13ff6507",
   "metadata": {},
   "outputs": [],
   "source": [
    "leads.Specialization.value_counts() / len(leads) * 100"
   ]
  },
  {
   "cell_type": "markdown",
   "id": "b5b62559",
   "metadata": {},
   "source": [
    "#### Let's fill the null values with a columns called `Other`"
   ]
  },
  {
   "cell_type": "code",
   "execution_count": null,
   "id": "14bf7dbe",
   "metadata": {},
   "outputs": [],
   "source": [
    "leads.Specialization = leads.Specialization.fillna('Other')"
   ]
  },
  {
   "cell_type": "markdown",
   "id": "dd810ee5",
   "metadata": {},
   "source": [
    "#### Recalculating the Specialization values"
   ]
  },
  {
   "cell_type": "code",
   "execution_count": null,
   "id": "6d021459",
   "metadata": {},
   "outputs": [],
   "source": [
    "leads.Specialization.value_counts() / len(leads) * 100"
   ]
  },
  {
   "cell_type": "markdown",
   "id": "b57a51df",
   "metadata": {},
   "source": [
    "#### Let's apply the same for Tags columns"
   ]
  },
  {
   "cell_type": "code",
   "execution_count": null,
   "id": "f74377d8",
   "metadata": {},
   "outputs": [],
   "source": [
    "leads.Tags.value_counts() / len(leads) * 100"
   ]
  },
  {
   "cell_type": "markdown",
   "id": "bc0d2198",
   "metadata": {},
   "source": [
    "Tags column has most values as \"Will revert after reading the email\" i.e. **58.7%**. So, all the missing columns can be filled with the same value."
   ]
  },
  {
   "cell_type": "code",
   "execution_count": null,
   "id": "f69a4f00",
   "metadata": {},
   "outputs": [],
   "source": [
    "leads.Tags = leads.Tags.fillna('Will revert after reading the email')"
   ]
  },
  {
   "cell_type": "code",
   "execution_count": null,
   "id": "646beb3b",
   "metadata": {},
   "outputs": [],
   "source": [
    "leads.Tags.value_counts() / len(leads) * 100"
   ]
  },
  {
   "cell_type": "markdown",
   "id": "10088b74",
   "metadata": {},
   "source": [
    "#### Let's look into the City columns"
   ]
  },
  {
   "cell_type": "code",
   "execution_count": null,
   "id": "1a5ebb5c",
   "metadata": {},
   "outputs": [],
   "source": [
    "leads.City.value_counts() / len(leads) * 100"
   ]
  },
  {
   "cell_type": "markdown",
   "id": "f2aeab26",
   "metadata": {},
   "source": [
    "#### As we do not have enough information on the City we can fill the missing City information as **Mumbai** (Which is already present in the dataset) and has the majority in count. We could have filled with \"Other Cities\" as well here."
   ]
  },
  {
   "cell_type": "code",
   "execution_count": null,
   "id": "4f28f9f1",
   "metadata": {},
   "outputs": [],
   "source": [
    "leads.City = leads.City.fillna('Mumbai')"
   ]
  },
  {
   "cell_type": "code",
   "execution_count": null,
   "id": "6a77169f",
   "metadata": {},
   "outputs": [],
   "source": [
    "calculate_null_percentage(leads)"
   ]
  },
  {
   "cell_type": "markdown",
   "id": "9b57d5a1",
   "metadata": {},
   "source": [
    "#### Country column has **`26.63%`** missing values."
   ]
  },
  {
   "cell_type": "code",
   "execution_count": null,
   "id": "09713cf9",
   "metadata": {},
   "outputs": [],
   "source": [
    "leads.Country.value_counts() / len(leads) * 100"
   ]
  },
  {
   "cell_type": "markdown",
   "id": "a2b1c64d",
   "metadata": {},
   "source": [
    "Most mentioned country is India. Missing values could be filled with India. "
   ]
  },
  {
   "cell_type": "code",
   "execution_count": null,
   "id": "3440c1a2",
   "metadata": {},
   "outputs": [],
   "source": [
    "leads.Country = leads.Country.fillna('India')"
   ]
  },
  {
   "cell_type": "code",
   "execution_count": null,
   "id": "47498c53",
   "metadata": {},
   "outputs": [],
   "source": [
    "leads.Country.value_counts() / len(leads) * 100"
   ]
  },
  {
   "cell_type": "markdown",
   "id": "36eab520",
   "metadata": {},
   "source": [
    "#### \"What is your current occupation\" column has some missing values. Let's impute this."
   ]
  },
  {
   "cell_type": "code",
   "execution_count": null,
   "id": "247a0501",
   "metadata": {},
   "outputs": [],
   "source": [
    "leads['What is your current occupation'].value_counts() / len(leads) * 100"
   ]
  },
  {
   "cell_type": "markdown",
   "id": "a75e3acc",
   "metadata": {},
   "source": [
    "Majority of the leads are unemployed here. It might be not appropriate to fill the missing data with `Unemployed`. It could be filled with `Other` as well. Business domain-wise and Unemployed person would(propably) tend to choose a course for employment. So all the missing values could be better filled with `Unemployed` column."
   ]
  },
  {
   "cell_type": "code",
   "execution_count": null,
   "id": "489f9141",
   "metadata": {},
   "outputs": [],
   "source": [
    "leads['What is your current occupation'] = leads['What is your current occupation'].fillna('Unemployed')"
   ]
  },
  {
   "cell_type": "code",
   "execution_count": null,
   "id": "e596e9af",
   "metadata": {},
   "outputs": [],
   "source": [
    "leads['What is your current occupation'].value_counts() / len(leads) * 100"
   ]
  },
  {
   "cell_type": "markdown",
   "id": "bd766223",
   "metadata": {},
   "source": [
    "#### \"What matters most to you in choosing a course\" column has good number of missing values. Let's impute that too"
   ]
  },
  {
   "cell_type": "code",
   "execution_count": null,
   "id": "213856ee",
   "metadata": {},
   "outputs": [],
   "source": [
    "leads['What matters most to you in choosing a course'].value_counts() / len(leads) * 100"
   ]
  },
  {
   "cell_type": "markdown",
   "id": "21715415",
   "metadata": {},
   "source": [
    "Very simple choice here to fill the missing values with \"Better Career Prospects\"."
   ]
  },
  {
   "cell_type": "code",
   "execution_count": null,
   "id": "8ffeed4e",
   "metadata": {},
   "outputs": [],
   "source": [
    "leads['What matters most to you in choosing a course'] = leads['What matters most to you in choosing a course'].fillna('Better Career Prospects')"
   ]
  },
  {
   "cell_type": "code",
   "execution_count": null,
   "id": "0d1d982b",
   "metadata": {},
   "outputs": [],
   "source": [
    "leads['What matters most to you in choosing a course'].value_counts() / len(leads) * 100"
   ]
  },
  {
   "cell_type": "code",
   "execution_count": null,
   "id": "cb379986",
   "metadata": {},
   "outputs": [],
   "source": [
    "calculate_null_percentage(leads)"
   ]
  },
  {
   "cell_type": "markdown",
   "id": "bae9bb15",
   "metadata": {},
   "source": [
    "#### Rest of the missing values columns are less then `1.5%`. These rows will be dropped."
   ]
  },
  {
   "cell_type": "code",
   "execution_count": null,
   "id": "36ff79e0",
   "metadata": {},
   "outputs": [],
   "source": [
    "leads.dropna(inplace=True)"
   ]
  },
  {
   "cell_type": "code",
   "execution_count": null,
   "id": "5a6a9153",
   "metadata": {},
   "outputs": [],
   "source": [
    "calculate_null_percentage(leads)"
   ]
  },
  {
   "cell_type": "markdown",
   "id": "3bb78b4c",
   "metadata": {},
   "source": [
    "#### As we see there are no more null values in the dataset. We can proceed for data analysis for better understanding of the dataset and features."
   ]
  },
  {
   "cell_type": "markdown",
   "id": "4b16e11c",
   "metadata": {},
   "source": [
    "## Exploratory Data Analysis"
   ]
  },
  {
   "cell_type": "markdown",
   "id": "76f624ba",
   "metadata": {},
   "source": [
    "#### Let's find out the conversion rate as convert is the target variable."
   ]
  },
  {
   "cell_type": "code",
   "execution_count": null,
   "id": "9a63a862",
   "metadata": {},
   "outputs": [],
   "source": [
    "sum(leads.Converted) / len(leads) * 100"
   ]
  },
  {
   "cell_type": "markdown",
   "id": "89762adb",
   "metadata": {},
   "source": [
    "#### So, the conversion rate is very close to `38%`"
   ]
  },
  {
   "cell_type": "markdown",
   "id": "b384a246",
   "metadata": {},
   "source": [
    "Let's find out relation among leads origin and lead source with the conversions."
   ]
  },
  {
   "cell_type": "code",
   "execution_count": null,
   "id": "278629f5",
   "metadata": {},
   "outputs": [],
   "source": [
    "plt.figure(figsize=(20, 10))\n",
    "sns.countplot(data = leads, x = 'Lead Origin', hue = 'Converted')\n",
    "plt.xticks(rotation = 45)\n",
    "plt.show()"
   ]
  },
  {
   "cell_type": "markdown",
   "id": "eb3d55fe",
   "metadata": {},
   "source": [
    "#### Observations\n",
    "1. API and Landing Page Submission have more conversion rate\n",
    "2. Lead Add Form has the highest coversion rate compared to the other two\n",
    "3. Lead Import has a very minimal conversion rate"
   ]
  },
  {
   "cell_type": "code",
   "execution_count": null,
   "id": "04456760",
   "metadata": {
    "scrolled": false
   },
   "outputs": [],
   "source": [
    "plt.figure(figsize=(20, 10))\n",
    "sns.countplot(data = leads, x = 'Lead Source', hue = 'Converted')\n",
    "plt.xticks(rotation = 45)\n",
    "plt.show()"
   ]
  },
  {
   "cell_type": "markdown",
   "id": "4780377b",
   "metadata": {},
   "source": [
    "#### Observations\n",
    "1. Olark Chat, Organic Search Direct Traffic, Google and Reference have more conversion rate\n",
    "2. There are Google and google both - we need to convert them to single category\n",
    "3. Also there are many **other** categories with minimal reach and conversions - we can convert them to a other category here"
   ]
  },
  {
   "cell_type": "code",
   "execution_count": null,
   "id": "b1e24b2f",
   "metadata": {},
   "outputs": [],
   "source": [
    "leads['Lead Source'].value_counts()"
   ]
  },
  {
   "cell_type": "code",
   "execution_count": null,
   "id": "5eb43ab0",
   "metadata": {},
   "outputs": [],
   "source": [
    "# Replacing google with Google\n",
    "leads['Lead Source'].replace(\"google\", \"Google\", inplace = True)"
   ]
  },
  {
   "cell_type": "code",
   "execution_count": null,
   "id": "3145a8de",
   "metadata": {},
   "outputs": [],
   "source": [
    "# Replacing Click2call, Press_Release, Social Media, \n",
    "# Live Chat, youtubechannel, testone, Pay per Click Ads, \n",
    "# welearnblog_Home, WeLearn, blog, NC_EDM\n",
    "# to 'Others'\n",
    "\n",
    "leads['Lead Source'].replace(['Click2call', 'Press_Release', 'Social Media', 'Live Chat', \n",
    "              'youtubechannel', 'testone', 'Pay per Click Ads', 'welearnblog_Home', \n",
    "              'WeLearn', 'blog', 'NC_EDM'], \"Others\", inplace = True)"
   ]
  },
  {
   "cell_type": "code",
   "execution_count": null,
   "id": "8e2fa5d4",
   "metadata": {},
   "outputs": [],
   "source": [
    "leads['Lead Source'].value_counts()"
   ]
  },
  {
   "cell_type": "code",
   "execution_count": null,
   "id": "1edb191b",
   "metadata": {
    "scrolled": false
   },
   "outputs": [],
   "source": [
    "plt.figure(figsize=(20, 10))\n",
    "sns.countplot(data = leads, x = 'Lead Source', hue = 'Converted')\n",
    "plt.xticks(rotation = 45)\n",
    "plt.show()"
   ]
  },
  {
   "cell_type": "markdown",
   "id": "a8e3f091",
   "metadata": {},
   "source": [
    "#### Observations -\n",
    "1. Google and Direct Traffic conversion rates are high in numbers\n",
    "2. Reference and Welingak website has the highest conversion rate in terms of percentage\n",
    "\n",
    "More focus should be on Google traffic, reference and Welingak website, nurturing these sources might increase conversion rate by a good margin"
   ]
  },
  {
   "cell_type": "markdown",
   "id": "68241c96",
   "metadata": {},
   "source": [
    "Let's see 'Do Not Email' and 'Do Not Call' columns based on the conversion rate"
   ]
  },
  {
   "cell_type": "code",
   "execution_count": null,
   "id": "f04bcd6d",
   "metadata": {},
   "outputs": [],
   "source": [
    "fig, axs = plt.subplots(1, 2, figsize=(12, 4))\n",
    "sns.countplot(data = leads, x = 'Do Not Email', hue = 'Converted', ax=axs[0])\n",
    "sns.countplot(data = leads, x = 'Do Not Call', hue = 'Converted', ax=axs[1])\n",
    "plt.show()"
   ]
  },
  {
   "cell_type": "markdown",
   "id": "be90383c",
   "metadata": {},
   "source": [
    "#### Observations -\n",
    "1. Condidates who allowed emails and calls communication has more convertion rate.\n",
    "2. In case of 'Do Not Email' and 'Do Not Call' - 'NO' - conversion rates are similar\n",
    "3. It can be inferred that interested candidates allowed calls and emails"
   ]
  },
  {
   "cell_type": "markdown",
   "id": "f7d591e5",
   "metadata": {},
   "source": [
    "Let's analyse 'TotalVisits'"
   ]
  },
  {
   "cell_type": "code",
   "execution_count": null,
   "id": "9f53506d",
   "metadata": {},
   "outputs": [],
   "source": [
    "plt.boxplot(data=leads, x='TotalVisits')\n",
    "plt.show()"
   ]
  },
  {
   "cell_type": "code",
   "execution_count": null,
   "id": "a8b162a5",
   "metadata": {},
   "outputs": [],
   "source": [
    "sns.boxplot(data=leads, x=\"Converted\", y='TotalVisits')\n",
    "plt.show()"
   ]
  },
  {
   "cell_type": "markdown",
   "id": "5b4cdc84",
   "metadata": {},
   "source": [
    "As we see there are many outliers in the totalvisits column based on the target columns. Let's consider 99th percentile to see if the outliers are removed. We will be updating the values to 99th percentile values here."
   ]
  },
  {
   "cell_type": "code",
   "execution_count": null,
   "id": "6196abf2",
   "metadata": {},
   "outputs": [],
   "source": [
    "quantile = leads.TotalVisits.quantile([0.05, 0.99]).values\n",
    "leads.TotalVisits[leads.TotalVisits <= quantile[0]] = quantile[0]\n",
    "leads.TotalVisits[leads.TotalVisits >= quantile[1]] = quantile[1]"
   ]
  },
  {
   "cell_type": "code",
   "execution_count": null,
   "id": "5a35c0d6",
   "metadata": {},
   "outputs": [],
   "source": [
    "sns.boxplot(data=leads, x=\"Converted\", y='TotalVisits')\n",
    "plt.show()"
   ]
  },
  {
   "cell_type": "markdown",
   "id": "4a78eee9",
   "metadata": {},
   "source": [
    "We can still see a good amount of outliers, it's will be better to take 95th percentile."
   ]
  },
  {
   "cell_type": "code",
   "execution_count": null,
   "id": "b8d09551",
   "metadata": {},
   "outputs": [],
   "source": [
    "quantile = leads.TotalVisits.quantile([0.05, 0.95]).values\n",
    "leads.TotalVisits[leads.TotalVisits <= quantile[0]] = quantile[0]\n",
    "leads.TotalVisits[leads.TotalVisits >= quantile[1]] = quantile[1]"
   ]
  },
  {
   "cell_type": "code",
   "execution_count": null,
   "id": "0c0bcb68",
   "metadata": {},
   "outputs": [],
   "source": [
    "sns.boxplot(data=leads, x=\"Converted\", y='TotalVisits')\n",
    "plt.show()"
   ]
  },
  {
   "cell_type": "markdown",
   "id": "18e0f5bf",
   "metadata": {},
   "source": [
    "#### Observations -\n",
    "1. There were good amount of outliers, any of the 99th or 95th percentiles data could be taken for further analysis. \n",
    "2. Mean of both the converted and non-converted are quite same."
   ]
  },
  {
   "cell_type": "markdown",
   "id": "44fb6ad2",
   "metadata": {},
   "source": [
    "Let's check \"Total Time Spent on Website\" column in case of any outliers"
   ]
  },
  {
   "cell_type": "code",
   "execution_count": null,
   "id": "0a257a30",
   "metadata": {},
   "outputs": [],
   "source": [
    "sns.boxplot(data=leads, x=\"Converted\", y='Total Time Spent on Website')\n",
    "plt.show()"
   ]
  },
  {
   "cell_type": "markdown",
   "id": "d6d3a5c5",
   "metadata": {},
   "source": [
    "#### Observations -\n",
    "1. There are good amount of outliers for non-converted leads\n",
    "2. Also, leads who are spending more time got converted, so wesite of could be more engaging to attract more leads and eventually more conversions"
   ]
  },
  {
   "cell_type": "markdown",
   "id": "22a37156",
   "metadata": {},
   "source": [
    "Let's look at the \"Page Views Per Visit\" attribute"
   ]
  },
  {
   "cell_type": "code",
   "execution_count": null,
   "id": "01ef5d5d",
   "metadata": {},
   "outputs": [],
   "source": [
    "sns.boxplot(data=leads, x=\"Converted\", y='Page Views Per Visit')\n",
    "plt.show()"
   ]
  },
  {
   "cell_type": "markdown",
   "id": "6429a049",
   "metadata": {},
   "source": [
    "There are outliers, we will apply 95th percentile for this as well"
   ]
  },
  {
   "cell_type": "code",
   "execution_count": null,
   "id": "75b0c5d1",
   "metadata": {},
   "outputs": [],
   "source": [
    "quantile = leads['Page Views Per Visit'].quantile([0.05, 0.95]).values\n",
    "leads['Page Views Per Visit'][leads['Page Views Per Visit'] <= quantile[0]] = quantile[0]\n",
    "leads['Page Views Per Visit'][leads['Page Views Per Visit'] >= quantile[1]] = quantile[1]"
   ]
  },
  {
   "cell_type": "code",
   "execution_count": null,
   "id": "289d7374",
   "metadata": {
    "scrolled": false
   },
   "outputs": [],
   "source": [
    "sns.boxplot(data=leads, x=\"Converted\", y='Page Views Per Visit')\n",
    "plt.show()"
   ]
  },
  {
   "cell_type": "markdown",
   "id": "c65b0613",
   "metadata": {},
   "source": [
    "#### Observations -\n",
    "1. Converted and non-converted leads have quite similar mean\n",
    "2. We cannot infer here that converted leads have visited more pages in compare to non-converted ones"
   ]
  },
  {
   "cell_type": "markdown",
   "id": "58c9139e",
   "metadata": {},
   "source": [
    "Let's analyse 'Last Activity' column"
   ]
  },
  {
   "cell_type": "code",
   "execution_count": null,
   "id": "b131e7e4",
   "metadata": {},
   "outputs": [],
   "source": [
    "leads['Last Activity']"
   ]
  },
  {
   "cell_type": "code",
   "execution_count": null,
   "id": "acbce950",
   "metadata": {},
   "outputs": [],
   "source": [
    "plt.figure(figsize=(20, 10))\n",
    "sns.countplot(data = leads, x = 'Last Activity', hue = 'Converted')\n",
    "plt.xticks(rotation = 90)\n",
    "plt.show()"
   ]
  },
  {
   "cell_type": "markdown",
   "id": "997d1c15",
   "metadata": {},
   "source": [
    "#### Observations - \n",
    "1. 'SMS Sent' and 'Email Opened' has more conversions than any other\n",
    "2. 'SMS Sent' has the higher conversion rate\n",
    "3. We can group the other minor 'Last Activity' attributes to 'Other'"
   ]
  },
  {
   "cell_type": "code",
   "execution_count": null,
   "id": "5579d10f",
   "metadata": {},
   "outputs": [],
   "source": [
    "leads['Last Activity'].value_counts()"
   ]
  },
  {
   "cell_type": "code",
   "execution_count": null,
   "id": "965db124",
   "metadata": {},
   "outputs": [],
   "source": [
    "leads['Last Activity'].replace(['Resubscribed to emails', 'Visited Booth in Tradeshow', 'Email Marked Spam', \n",
    "                                'Email Received', 'Approached upfront', 'View in browser link Clicked', \n",
    "                                'Had a Phone Conversation',], \"Other\", inplace = True)"
   ]
  },
  {
   "cell_type": "code",
   "execution_count": null,
   "id": "5ff7bdae",
   "metadata": {},
   "outputs": [],
   "source": [
    "plt.figure(figsize=(20, 10))\n",
    "sns.countplot(data = leads, x = 'Last Activity', hue = 'Converted')\n",
    "plt.xticks(rotation = 90)\n",
    "plt.show()"
   ]
  },
  {
   "cell_type": "markdown",
   "id": "4920219b",
   "metadata": {},
   "source": [
    "#### Observations - \n",
    "1. Nothing major changes from the previous observations"
   ]
  },
  {
   "cell_type": "markdown",
   "id": "eccba03d",
   "metadata": {},
   "source": [
    "Let's check conversions based on Country"
   ]
  },
  {
   "cell_type": "code",
   "execution_count": null,
   "id": "2e5d9048",
   "metadata": {},
   "outputs": [],
   "source": [
    "plt.figure(figsize=(10, 6))\n",
    "sns.countplot(data = leads, x = 'Country', hue = 'Converted')\n",
    "plt.xticks(rotation = 90)\n",
    "plt.show()"
   ]
  },
  {
   "cell_type": "markdown",
   "id": "5931a9ed",
   "metadata": {},
   "source": [
    "#### Observations -\n",
    "Majority of the leads are from India and conversions too"
   ]
  },
  {
   "cell_type": "markdown",
   "id": "08dc9870",
   "metadata": {},
   "source": [
    "Let's check conversions with specialization"
   ]
  },
  {
   "cell_type": "code",
   "execution_count": null,
   "id": "366004e1",
   "metadata": {
    "scrolled": false
   },
   "outputs": [],
   "source": [
    "plt.figure(figsize=(20, 10))\n",
    "sns.countplot(data = leads, x = 'Specialization', hue = 'Converted')\n",
    "plt.xticks(rotation = 90)\n",
    "plt.show()"
   ]
  },
  {
   "cell_type": "markdown",
   "id": "ee774fa2",
   "metadata": {},
   "source": [
    "#### Observations -\n",
    "1. There are more conversions from Other category, this implies that leads who did not mention their specialization have got more conversions than other specializations\n",
    "2. Among all the mentioned specializations Marketing Management, Human Resource Management, Finance Management has very good conversion rate as we all numbers."
   ]
  },
  {
   "cell_type": "code",
   "execution_count": null,
   "id": "f393369e",
   "metadata": {},
   "outputs": [],
   "source": [
    "plt.figure(figsize=(20, 10))\n",
    "sns.countplot(data = leads, x = 'What is your current occupation', hue = 'Converted')\n",
    "plt.xticks(rotation = 90)\n",
    "plt.show()"
   ]
  },
  {
   "cell_type": "markdown",
   "id": "ab22d173",
   "metadata": {},
   "source": [
    "#### Observations -\n",
    "1. Unemployed leads have more conversions in numbers - we can infer that unemployed leads are interested in courses to find alternative choices in their career\n",
    "2. Working professionals have more conversion rate - we can infer that working professionals are interested in courses to upskill themselves. This means working professional have a high chance of joining a course."
   ]
  },
  {
   "cell_type": "code",
   "execution_count": null,
   "id": "7d7937ff",
   "metadata": {},
   "outputs": [],
   "source": [
    "leads.info()"
   ]
  },
  {
   "cell_type": "code",
   "execution_count": null,
   "id": "685a72e5",
   "metadata": {},
   "outputs": [],
   "source": [
    "plt.figure(figsize=(20, 10))\n",
    "sns.countplot(data = leads, x = 'What matters most to you in choosing a course', hue = 'Converted')\n",
    "plt.xticks(rotation = 90)\n",
    "plt.show()"
   ]
  },
  {
   "cell_type": "markdown",
   "id": "ef799f0a",
   "metadata": {},
   "source": [
    "#### Observations -\n",
    "1. Supporting the previous observation, leads have chosen a course for \"Better Career Prospect\" and have decent conversion."
   ]
  },
  {
   "cell_type": "markdown",
   "id": "5b1ad305",
   "metadata": {},
   "source": [
    "Let's check all the advertisement attributes and their contributions to the conversions\n",
    "They are -\n",
    "1. Search\n",
    "2. Magazine\n",
    "3. Newspaper Article\n",
    "4. X Education Forums\n",
    "5. Newspaper\n",
    "6. Digital Advertisement"
   ]
  },
  {
   "cell_type": "code",
   "execution_count": null,
   "id": "5a80206d",
   "metadata": {
    "scrolled": false
   },
   "outputs": [],
   "source": [
    "fig, axs = plt.subplots(2, 3, figsize=(16, 8))\n",
    "sns.countplot(data = leads, x = 'Search', hue = 'Converted', ax=axs[0, 0])\n",
    "sns.countplot(data = leads, x = 'Magazine', hue = 'Converted', ax=axs[0, 1])\n",
    "sns.countplot(data = leads, x = 'Newspaper Article', hue = 'Converted', ax=axs[0, 2])\n",
    "sns.countplot(data = leads, x = 'X Education Forums', hue = 'Converted', ax=axs[1, 0])\n",
    "sns.countplot(data = leads, x = 'Newspaper', hue = 'Converted', ax=axs[1, 1])\n",
    "sns.countplot(data = leads, x = 'Digital Advertisement', hue = 'Converted', ax=axs[1, 2])\n",
    "plt.show()"
   ]
  },
  {
   "cell_type": "markdown",
   "id": "b83ae3eb",
   "metadata": {},
   "source": [
    "#### Observations -\n",
    "1. Search has most of the entries as No with decent conversion rate, also it has some Yes(s) which has conversions\n",
    "2. Magazine have all the values as No - no inference can be drawn from here\n",
    "3. Newspaper article has most of the entries as No.\n",
    "4. X Education Forums also has most entries as No.\n",
    "5. Regular Newspaper has most entries as No.\n",
    "6. Digital Advertisement has most entries as No.\n",
    "7. This implies that none of the advertising media for X Education has been effective in lead conversions yet."
   ]
  },
  {
   "cell_type": "markdown",
   "id": "caadffd8",
   "metadata": {},
   "source": [
    "Let's check \"Through Recommendations\" attribute"
   ]
  },
  {
   "cell_type": "code",
   "execution_count": null,
   "id": "60044a56",
   "metadata": {},
   "outputs": [],
   "source": [
    "plt.figure(figsize=(10, 5))\n",
    "sns.countplot(data = leads, x = 'Through Recommendations', hue = 'Converted')\n",
    "plt.show()"
   ]
  },
  {
   "cell_type": "markdown",
   "id": "02cc2ac7",
   "metadata": {},
   "source": [
    "#### Observations -\n",
    "1. Most of the leads are not through recommendations.\n",
    "2. There are a very less number of leads are through recommendation and conversion rate is high for them"
   ]
  },
  {
   "cell_type": "code",
   "execution_count": null,
   "id": "9f5df30c",
   "metadata": {},
   "outputs": [],
   "source": [
    "plt.figure(figsize=(10, 5))\n",
    "sns.countplot(data = leads, x = 'Receive More Updates About Our Courses', hue = 'Converted')\n",
    "plt.show()"
   ]
  },
  {
   "cell_type": "markdown",
   "id": "eb41bf2b",
   "metadata": {},
   "source": [
    "#### Observations -\n",
    "1. No leads heard about the updates about courses, X Education might have to focus on sharing updates about the courses more proactively."
   ]
  },
  {
   "cell_type": "markdown",
   "id": "160a4e9a",
   "metadata": {},
   "source": [
    "Let's check \"Tags\" attribute"
   ]
  },
  {
   "cell_type": "code",
   "execution_count": null,
   "id": "1d2a121e",
   "metadata": {},
   "outputs": [],
   "source": [
    "plt.figure(figsize=(20, 10))\n",
    "sns.countplot(data = leads, x = 'Tags', hue = 'Converted')\n",
    "plt.xticks(rotation=90)\n",
    "plt.show()"
   ]
  },
  {
   "cell_type": "markdown",
   "id": "dc8f1de5",
   "metadata": {},
   "source": [
    "#### Observations -\n",
    "1. Many leads were converted who reverted after email and closed by Horizzon.\n",
    "2. More emails could be shared for increasing conversions\n",
    "3. Also this column is generated by sales or marketting team, might not be helpful for the model building - will have to remove this column."
   ]
  },
  {
   "cell_type": "code",
   "execution_count": null,
   "id": "03f5cc8a",
   "metadata": {},
   "outputs": [],
   "source": [
    "plt.figure(figsize=(6, 4))\n",
    "sns.countplot(data = leads, x = 'Update me on Supply Chain Content', hue = 'Converted')\n",
    "plt.show()"
   ]
  },
  {
   "cell_type": "markdown",
   "id": "932d2a2c",
   "metadata": {},
   "source": [
    "#### Observations -\n",
    "1. All are No - not much inferecences to take from here"
   ]
  },
  {
   "cell_type": "code",
   "execution_count": null,
   "id": "5995bdde",
   "metadata": {},
   "outputs": [],
   "source": [
    "plt.figure(figsize=(6, 4))\n",
    "sns.countplot(data = leads, x = 'Get updates on DM Content', hue = 'Converted')\n",
    "plt.show()"
   ]
  },
  {
   "cell_type": "markdown",
   "id": "cd5357c0",
   "metadata": {},
   "source": [
    "#### Observations -\n",
    "1. All leads chose No got getting updates on DM content - not much inferecences to take from here"
   ]
  },
  {
   "cell_type": "markdown",
   "id": "17487430",
   "metadata": {},
   "source": [
    "Let's have a looks at the \"City\" attribute"
   ]
  },
  {
   "cell_type": "code",
   "execution_count": null,
   "id": "654039f9",
   "metadata": {},
   "outputs": [],
   "source": [
    "plt.figure(figsize=(6, 4))\n",
    "sns.countplot(data = leads, x = 'City', hue = 'Converted')\n",
    "plt.xticks(rotation = 90)\n",
    "plt.show()"
   ]
  },
  {
   "cell_type": "markdown",
   "id": "b6c416d2",
   "metadata": {},
   "source": [
    "#### Observations -\n",
    "1. Mumbai has the highest lead conversion in numbers.\n",
    "2. Tier II cities are very less in numbers for of lead conversion\n",
    "3. Thane & Outskirits, other Metro Cities, and cities have the quite high conversion rate although their number leads is low"
   ]
  },
  {
   "cell_type": "code",
   "execution_count": null,
   "id": "d04abf1a",
   "metadata": {},
   "outputs": [],
   "source": [
    "plt.figure(figsize=(6, 4))\n",
    "sns.countplot(data = leads, x = 'I agree to pay the amount through cheque', hue = 'Converted')\n",
    "plt.show()"
   ]
  },
  {
   "cell_type": "markdown",
   "id": "71af470d",
   "metadata": {},
   "source": [
    "#### Observations - \n",
    "1. All leads chose not to pay by cheque"
   ]
  },
  {
   "cell_type": "code",
   "execution_count": null,
   "id": "747410b2",
   "metadata": {},
   "outputs": [],
   "source": [
    "plt.figure(figsize=(6, 4))\n",
    "sns.countplot(data = leads, x = 'A free copy of Mastering The Interview', hue = 'Converted')\n",
    "plt.show()"
   ]
  },
  {
   "cell_type": "markdown",
   "id": "89b15e4e",
   "metadata": {},
   "source": [
    "#### Observations -\n",
    "1. There are distributions among no and yes, but not much inference can be drawn from here.\n",
    "2. Conversion rate seems to be similar for both yes and no"
   ]
  },
  {
   "cell_type": "code",
   "execution_count": null,
   "id": "68875c06",
   "metadata": {},
   "outputs": [],
   "source": [
    "plt.figure(figsize=(16, 8))\n",
    "sns.countplot(data = leads, x = 'Last Notable Activity', hue = 'Converted')\n",
    "plt.xticks(rotation=90)\n",
    "plt.show()"
   ]
  },
  {
   "cell_type": "markdown",
   "id": "4a2df6fd",
   "metadata": {},
   "source": [
    "#### Observations -\n",
    "1. Most of the conversions happened when leads opened email or and SMS was sent to the leads. This organization should keep focuse on these two process to get more engagement"
   ]
  },
  {
   "cell_type": "markdown",
   "id": "2d038f0e",
   "metadata": {},
   "source": [
    "#### There are many columns which are not adding much value to the future analysis, we should remove these columns.\n",
    "1. Lead Number\n",
    "2. Country\n",
    "3. Search\n",
    "4. Magazine\n",
    "5. Newspaper Article\n",
    "6. X Education Forums\n",
    "7. Newspaper\n",
    "8. Digital Advertisement\n",
    "9. Through Recommendations\n",
    "10. Receive More Updates About Our Courses\n",
    "11. Tags\n",
    "12. Update me on Supply Chain Content\n",
    "13. Get updates on DM Content\n",
    "14. I agree to pay the amount through cheque\n",
    "15. a free copy of Mastering The Interview "
   ]
  },
  {
   "cell_type": "code",
   "execution_count": null,
   "id": "ac9692e1",
   "metadata": {},
   "outputs": [],
   "source": [
    "leads.drop(['Lead Number',\n",
    "'Country',\n",
    "'Search',\n",
    "'Magazine',\n",
    "'Newspaper Article',\n",
    "'X Education Forums',\n",
    "'Newspaper',\n",
    "'Digital Advertisement',\n",
    "'Through Recommendations',\n",
    "'Receive More Updates About Our Courses',\n",
    "'Tags',\n",
    "'Update me on Supply Chain Content',\n",
    "'Get updates on DM Content',\n",
    "'I agree to pay the amount through cheque',\n",
    "'A free copy of Mastering The Interview'], axis=1, inplace=True)"
   ]
  },
  {
   "cell_type": "markdown",
   "id": "6fe6c28b",
   "metadata": {},
   "source": [
    "As observed earlier we will have to drop **\"What matters most to you in choosing a course\"** column too for better data preparation"
   ]
  },
  {
   "cell_type": "code",
   "execution_count": null,
   "id": "e211db15",
   "metadata": {},
   "outputs": [],
   "source": [
    "leads.drop('What matters most to you in choosing a course', axis=1, inplace=True)"
   ]
  },
  {
   "cell_type": "code",
   "execution_count": null,
   "id": "c8b35f50",
   "metadata": {},
   "outputs": [],
   "source": [
    "leads.info()"
   ]
  },
  {
   "cell_type": "code",
   "execution_count": null,
   "id": "288e14c1",
   "metadata": {},
   "outputs": [],
   "source": [
    "leads.shape"
   ]
  },
  {
   "cell_type": "markdown",
   "id": "15c95c79",
   "metadata": {},
   "source": [
    "#### After the data clean up, we have 14 attributes for model development. \n",
    "##### There are couple of columns which are categorical i.e. yes/no - binary, and multi category. We will need to convert them to numerical form so that they can be used for model preparation."
   ]
  },
  {
   "cell_type": "markdown",
   "id": "fae9918f",
   "metadata": {},
   "source": [
    "## Data Preparation"
   ]
  },
  {
   "cell_type": "markdown",
   "id": "a072ca85",
   "metadata": {},
   "source": [
    "#### There are only two columns with Binary category - \n",
    "1. Do Not Email\n",
    "2. Do Not Call\n",
    "\n",
    "We will convert the `No` to `0` and `Yes` to `1`"
   ]
  },
  {
   "cell_type": "code",
   "execution_count": null,
   "id": "31c9eac8",
   "metadata": {},
   "outputs": [],
   "source": [
    "columns = ['Do Not Email', 'Do Not Call']\n",
    "leads[columns] = leads[columns].apply(lambda x: x.map({ 'No': 0, 'Yes': 1}))"
   ]
  },
  {
   "cell_type": "markdown",
   "id": "0e2be0bc",
   "metadata": {},
   "source": [
    "##### Other columns are multi-value categorical columns. They must be replaced with dummy variables. As per guidelines we will drop the first columns after converting the categorical columns to dummy vatiables."
   ]
  },
  {
   "cell_type": "code",
   "execution_count": null,
   "id": "22101cb4",
   "metadata": {},
   "outputs": [],
   "source": [
    "columns_to_create_dummies = ['Lead Origin', 'Lead Source', 'Last Activity', \n",
    "    'Specialization', 'What is your current occupation', \n",
    "    'City', 'Last Notable Activity']\n",
    "dummies = pd.get_dummies(leads[columns_to_create_dummies], drop_first=True)"
   ]
  },
  {
   "cell_type": "code",
   "execution_count": null,
   "id": "5c20910b",
   "metadata": {},
   "outputs": [],
   "source": [
    "dummies.head(3)"
   ]
  },
  {
   "cell_type": "code",
   "execution_count": null,
   "id": "7a44c40c",
   "metadata": {},
   "outputs": [],
   "source": [
    "leads = pd.concat([leads, dummies], axis=1)"
   ]
  },
  {
   "cell_type": "code",
   "execution_count": null,
   "id": "22c5beff",
   "metadata": {},
   "outputs": [],
   "source": [
    "leads.shape"
   ]
  },
  {
   "cell_type": "markdown",
   "id": "566708ec",
   "metadata": {},
   "source": [
    "#### Let's drop the columns for which dummies are created"
   ]
  },
  {
   "cell_type": "code",
   "execution_count": null,
   "id": "5dfa4436",
   "metadata": {},
   "outputs": [],
   "source": [
    "leads.drop(columns_to_create_dummies, axis=1, inplace=True)"
   ]
  },
  {
   "cell_type": "code",
   "execution_count": null,
   "id": "cc6fa34c",
   "metadata": {},
   "outputs": [],
   "source": [
    "leads.shape"
   ]
  },
  {
   "cell_type": "markdown",
   "id": "ec441d17",
   "metadata": {},
   "source": [
    "#### We are not in position to split the data into train and test. Will be using sklearn module."
   ]
  },
  {
   "cell_type": "code",
   "execution_count": null,
   "id": "12e45cff",
   "metadata": {},
   "outputs": [],
   "source": [
    "X = leads.drop(['Prospect ID', 'Converted'], axis=1)"
   ]
  },
  {
   "cell_type": "code",
   "execution_count": null,
   "id": "e3071ec4",
   "metadata": {},
   "outputs": [],
   "source": [
    "y = leads.Converted"
   ]
  },
  {
   "cell_type": "code",
   "execution_count": null,
   "id": "d40a44ca",
   "metadata": {},
   "outputs": [],
   "source": [
    "X_train, X_test, y_train, y_test = train_test_split(X, y, test_size=0.30, random_state=100)"
   ]
  },
  {
   "cell_type": "code",
   "execution_count": null,
   "id": "be5b433e",
   "metadata": {},
   "outputs": [],
   "source": [
    "# Making sure the test-train spit is 30-70\n",
    "print(round(len(X_train) / len(leads) * 100, 1))\n",
    "print(round(len(X_test) / len(leads) * 100, 1))"
   ]
  },
  {
   "cell_type": "markdown",
   "id": "81aa5535",
   "metadata": {},
   "source": [
    "#### There are attributes which has numerical values of different ranges. They must be scaled before considered in the model. We will be using StandardScaler for this case."
   ]
  },
  {
   "cell_type": "code",
   "execution_count": null,
   "id": "40c7993a",
   "metadata": {},
   "outputs": [],
   "source": [
    "scaler = StandardScaler()"
   ]
  },
  {
   "cell_type": "code",
   "execution_count": null,
   "id": "fa099e47",
   "metadata": {},
   "outputs": [],
   "source": [
    "X_train.head()"
   ]
  },
  {
   "cell_type": "code",
   "execution_count": null,
   "id": "5bcc7a56",
   "metadata": {},
   "outputs": [],
   "source": [
    "columns_to_scale = ['TotalVisits', 'Total Time Spent on Website', 'Page Views Per Visit']"
   ]
  },
  {
   "cell_type": "code",
   "execution_count": null,
   "id": "6038a1c8",
   "metadata": {},
   "outputs": [],
   "source": [
    "X_train[columns_to_scale] = scaler.fit_transform(X_train[columns_to_scale])"
   ]
  },
  {
   "cell_type": "code",
   "execution_count": null,
   "id": "313de877",
   "metadata": {},
   "outputs": [],
   "source": [
    "X_train.head()"
   ]
  },
  {
   "cell_type": "markdown",
   "id": "339a2512",
   "metadata": {},
   "source": [
    "#### Checking correlations among the features"
   ]
  },
  {
   "cell_type": "code",
   "execution_count": null,
   "id": "e23a75c5",
   "metadata": {},
   "outputs": [],
   "source": [
    "plt.figure(figsize = (60,60))\n",
    "sns.heatmap(X_train.corr(), annot = True, fmt=\".3f\", cmap=\"flare\")\n",
    "plt.show()"
   ]
  },
  {
   "cell_type": "markdown",
   "id": "c0090a6e",
   "metadata": {},
   "source": [
    "#### There are certain columns which are highly correlated to each other. e.g.\n",
    "1. Last Activity_Email Bounced\n",
    "2. Lead Source_Reference\n",
    "3. Lead Source_Facebook\n",
    "4. Lead Origin_Landing Page Submission\n",
    "5. Last Notable Activity_SMS Sent\n",
    "6. Last Notable Activity_Email Opened\n",
    "7. Last Notable Activity_Had a Phone Conversation\n",
    "8. Last Notable Activity_Page Visited on Website\n",
    "9. Last Notable Activity_Unreachable\n",
    "10. Last Notable Activity_Unsubscribed\n",
    "11. Last Notable Activity_Email Link Clicked\n",
    "\n",
    "#### Also there is high correlation between\n",
    "1. `TotalVisits` and `Page Views Per Visit` \n",
    "2. `Landing Page Submission` and `Page Views Per Visit` \n",
    "3. `Lead Origin_Landing Page Submission` and `TotalVisits` \n",
    "but we should not drop these Features, they might attribute to the final model selection"
   ]
  },
  {
   "cell_type": "code",
   "execution_count": null,
   "id": "6cdbcda1",
   "metadata": {},
   "outputs": [],
   "source": [
    "columns_to_drop = ['Last Activity_Email Bounced'\n",
    ",'Lead Source_Reference'\n",
    ",'Lead Source_Facebook'\n",
    ",'Lead Origin_Landing Page Submission'\n",
    ",'Last Notable Activity_SMS Sent'\n",
    ",'Last Notable Activity_Email Opened'\n",
    ",'Last Notable Activity_Had a Phone Conversation'\n",
    ",'Last Notable Activity_Page Visited on Website'\n",
    ",'Last Notable Activity_Unreachable'\n",
    ",'Last Notable Activity_Unsubscribed'\n",
    ",'Last Notable Activity_Email Link Clicked']\n",
    "\n",
    "X_train = X_train.drop(columns_to_drop, axis=1)\n",
    "X_test = X_test.drop(columns_to_drop, axis=1)"
   ]
  },
  {
   "cell_type": "markdown",
   "id": "58bf4679",
   "metadata": {},
   "source": [
    "#### Checking the correlation again"
   ]
  },
  {
   "cell_type": "code",
   "execution_count": null,
   "id": "c43d13fa",
   "metadata": {},
   "outputs": [],
   "source": [
    "plt.figure(figsize = (60,60))\n",
    "sns.heatmap(X_train.corr(), annot = True, fmt=\".3f\", cmap=\"flare\")\n",
    "plt.show()"
   ]
  },
  {
   "cell_type": "markdown",
   "id": "41b95a00",
   "metadata": {},
   "source": [
    "#### Now we are in a position to proceed for feature selection using RFE."
   ]
  },
  {
   "cell_type": "code",
   "execution_count": null,
   "id": "c715bfd8",
   "metadata": {},
   "outputs": [],
   "source": [
    "lr = LogisticRegression()\n",
    "\n",
    "# Running Feature Selection and select 25 Features\n",
    "rfe = RFE(estimator = lr, n_features_to_select = 25)\n",
    "rfe = rfe.fit(X_train, y_train)"
   ]
  },
  {
   "cell_type": "code",
   "execution_count": null,
   "id": "8c607537",
   "metadata": {},
   "outputs": [],
   "source": [
    "rfe.support_"
   ]
  },
  {
   "cell_type": "markdown",
   "id": "c78db1f9",
   "metadata": {},
   "source": [
    "#### Let's check the ranking and the RFE selection criteria with training data"
   ]
  },
  {
   "cell_type": "code",
   "execution_count": null,
   "id": "b276c6d6",
   "metadata": {},
   "outputs": [],
   "source": [
    "list(zip(X_train.columns, rfe.support_, rfe.ranking_))"
   ]
  },
  {
   "cell_type": "markdown",
   "id": "98353e50",
   "metadata": {},
   "source": [
    "#### Let's find out the Feature selected by RFE"
   ]
  },
  {
   "cell_type": "code",
   "execution_count": null,
   "id": "3f7a3f6a",
   "metadata": {},
   "outputs": [],
   "source": [
    "columns_selected_by_rfe = X_train.columns[rfe.support_]"
   ]
  },
  {
   "cell_type": "code",
   "execution_count": null,
   "id": "b66d9229",
   "metadata": {},
   "outputs": [],
   "source": [
    "columns_selected_by_rfe"
   ]
  },
  {
   "cell_type": "markdown",
   "id": "fb4b07f9",
   "metadata": {},
   "source": [
    "#### As we have got the first feature set selected by RFE we can start with the model building"
   ]
  },
  {
   "cell_type": "markdown",
   "id": "1edc9581",
   "metadata": {},
   "source": [
    "## Model Building"
   ]
  },
  {
   "cell_type": "code",
   "execution_count": null,
   "id": "94c3facc",
   "metadata": {},
   "outputs": [],
   "source": [
    "logm1 = sm.GLM(y_train, (sm.add_constant(X_train[columns_selected_by_rfe])), family = sm.families.Binomial())\n",
    "logm1.fit().summary()"
   ]
  },
  {
   "cell_type": "markdown",
   "id": "0112a069",
   "metadata": {},
   "source": [
    "#### `What is your current occupation_Housewife` , `Do Not Call` and  `Last Notable Activity_View in browser link Clicked` has very high P-Value. This column need to be dropped"
   ]
  },
  {
   "cell_type": "code",
   "execution_count": null,
   "id": "6aff5620",
   "metadata": {},
   "outputs": [],
   "source": [
    "columns_selected_by_rfe = columns_selected_by_rfe.drop([\"What is your current occupation_Housewife\",\n",
    "                                                        \"Do Not Call\",\n",
    "                                                        \"Last Notable Activity_View in browser link Clicked\"])"
   ]
  },
  {
   "cell_type": "code",
   "execution_count": null,
   "id": "066a5081",
   "metadata": {},
   "outputs": [],
   "source": [
    "logm2 = sm.GLM(y_train, (sm.add_constant(X_train[columns_selected_by_rfe])), family = sm.families.Binomial())\n",
    "logm2.fit().summary()"
   ]
  },
  {
   "cell_type": "markdown",
   "id": "15a99306",
   "metadata": {},
   "source": [
    "#### `Lead Source_bing` has a very high P-Value, Need to remove this column."
   ]
  },
  {
   "cell_type": "code",
   "execution_count": null,
   "id": "c0479d36",
   "metadata": {},
   "outputs": [],
   "source": [
    "columns_selected_by_rfe = columns_selected_by_rfe.drop(\"Lead Source_bing\")"
   ]
  },
  {
   "cell_type": "code",
   "execution_count": null,
   "id": "ed01ff63",
   "metadata": {},
   "outputs": [],
   "source": [
    "logm3 = sm.GLM(y_train, (sm.add_constant(X_train[columns_selected_by_rfe])), family = sm.families.Binomial())\n",
    "logm3.fit().summary()"
   ]
  },
  {
   "cell_type": "markdown",
   "id": "ae91dfe4",
   "metadata": {},
   "source": [
    "#### Still there are few Features which have high P-Value. Let's try to remove them one by one.\n",
    "#### One of them `Specialization_Hospitality Management`."
   ]
  },
  {
   "cell_type": "code",
   "execution_count": null,
   "id": "34ebd19e",
   "metadata": {},
   "outputs": [],
   "source": [
    "columns_selected_by_rfe = columns_selected_by_rfe.drop(\"Specialization_Hospitality Management\")"
   ]
  },
  {
   "cell_type": "code",
   "execution_count": null,
   "id": "e0c4a46f",
   "metadata": {},
   "outputs": [],
   "source": [
    "logm4 = sm.GLM(y_train, (sm.add_constant(X_train[columns_selected_by_rfe])), family = sm.families.Binomial())\n",
    "logm4.fit().summary()"
   ]
  },
  {
   "cell_type": "markdown",
   "id": "3423b7d6",
   "metadata": {},
   "source": [
    "#### `City_Tier II Cities` has high P-Value. This feature need to be removed."
   ]
  },
  {
   "cell_type": "code",
   "execution_count": null,
   "id": "a330e788",
   "metadata": {},
   "outputs": [],
   "source": [
    "columns_selected_by_rfe = columns_selected_by_rfe.drop(\"City_Tier II Cities\")"
   ]
  },
  {
   "cell_type": "code",
   "execution_count": null,
   "id": "966fbb25",
   "metadata": {},
   "outputs": [],
   "source": [
    "logm5 = sm.GLM(y_train, (sm.add_constant(X_train[columns_selected_by_rfe])), family = sm.families.Binomial())\n",
    "logm5.fit().summary()"
   ]
  },
  {
   "cell_type": "markdown",
   "id": "18d9c111",
   "metadata": {},
   "source": [
    "#### There are few more Features which have little high P-Values, but we will see VIFs now to eliminate further features."
   ]
  }
 ],
 "metadata": {
  "kernelspec": {
   "display_name": "Python 3 (ipykernel)",
   "language": "python",
   "name": "python3"
  },
  "language_info": {
   "codemirror_mode": {
    "name": "ipython",
    "version": 3
   },
   "file_extension": ".py",
   "mimetype": "text/x-python",
   "name": "python",
   "nbconvert_exporter": "python",
   "pygments_lexer": "ipython3",
   "version": "3.9.13"
  }
 },
 "nbformat": 4,
 "nbformat_minor": 5
}
